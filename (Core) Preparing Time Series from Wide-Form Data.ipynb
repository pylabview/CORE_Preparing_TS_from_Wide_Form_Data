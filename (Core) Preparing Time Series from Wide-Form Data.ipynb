{
 "cells": [
  {
   "cell_type": "markdown",
   "id": "03cdd15e-a060-419a-aea3-d70361635649",
   "metadata": {},
   "source": [
    "# (Core) Preparing Time Series from Wide-Form Data"
   ]
  },
  {
   "cell_type": "markdown",
   "id": "ee0f5915-6686-405e-b6e2-1001435468fb",
   "metadata": {},
   "source": [
    "## Imports"
   ]
  },
  {
   "cell_type": "code",
   "execution_count": 1,
   "id": "0c37f86e-fcc0-429b-99d7-a5c870498947",
   "metadata": {},
   "outputs": [],
   "source": [
    "import pandas as pd\n",
    "import numpy as np\n",
    "import matplotlib.pyplot as plt\n",
    "import matplotlib.dates as mdates\n",
    "import matplotlib.ticker as mticks\n"
   ]
  },
  {
   "cell_type": "markdown",
   "id": "9319ed26-e5c4-41cc-90ff-64e372eeb316",
   "metadata": {},
   "source": [
    "## Task\n",
    "### Part 1\n",
    "#### Load in the Zillow Home Value Index dataframe"
   ]
  },
  {
   "cell_type": "code",
   "execution_count": 2,
   "id": "8295a8d5-23f3-44de-a6f6-b981623cd8c6",
   "metadata": {},
   "outputs": [
    {
     "data": {
      "text/html": [
       "<div>\n",
       "<style scoped>\n",
       "    .dataframe tbody tr th:only-of-type {\n",
       "        vertical-align: middle;\n",
       "    }\n",
       "\n",
       "    .dataframe tbody tr th {\n",
       "        vertical-align: top;\n",
       "    }\n",
       "\n",
       "    .dataframe thead th {\n",
       "        text-align: right;\n",
       "    }\n",
       "</style>\n",
       "<table border=\"1\" class=\"dataframe\">\n",
       "  <thead>\n",
       "    <tr style=\"text-align: right;\">\n",
       "      <th></th>\n",
       "      <th>RegionID</th>\n",
       "      <th>SizeRank</th>\n",
       "      <th>RegionName</th>\n",
       "      <th>RegionType</th>\n",
       "      <th>StateName</th>\n",
       "      <th>State</th>\n",
       "      <th>Metro</th>\n",
       "      <th>CountyName</th>\n",
       "      <th>2000-01-31</th>\n",
       "      <th>2000-02-29</th>\n",
       "      <th>...</th>\n",
       "      <th>2021-12-31</th>\n",
       "      <th>2022-01-31</th>\n",
       "      <th>2022-02-28</th>\n",
       "      <th>2022-03-31</th>\n",
       "      <th>2022-04-30</th>\n",
       "      <th>2022-05-31</th>\n",
       "      <th>2022-06-30</th>\n",
       "      <th>2022-07-31</th>\n",
       "      <th>2022-08-31</th>\n",
       "      <th>2022-09-30</th>\n",
       "    </tr>\n",
       "  </thead>\n",
       "  <tbody>\n",
       "    <tr>\n",
       "      <th>0</th>\n",
       "      <td>6181</td>\n",
       "      <td>0</td>\n",
       "      <td>New York</td>\n",
       "      <td>city</td>\n",
       "      <td>NY</td>\n",
       "      <td>NY</td>\n",
       "      <td>New York-Newark-Jersey City, NY-NJ-PA</td>\n",
       "      <td>Queens County</td>\n",
       "      <td>253690.0</td>\n",
       "      <td>255517.0</td>\n",
       "      <td>...</td>\n",
       "      <td>741586.0</td>\n",
       "      <td>745686.0</td>\n",
       "      <td>750578.0</td>\n",
       "      <td>756734.0</td>\n",
       "      <td>762321.0</td>\n",
       "      <td>768797.0</td>\n",
       "      <td>773944.0</td>\n",
       "      <td>777692.0</td>\n",
       "      <td>779960.0</td>\n",
       "      <td>781622.0</td>\n",
       "    </tr>\n",
       "    <tr>\n",
       "      <th>1</th>\n",
       "      <td>12447</td>\n",
       "      <td>1</td>\n",
       "      <td>Los Angeles</td>\n",
       "      <td>city</td>\n",
       "      <td>CA</td>\n",
       "      <td>CA</td>\n",
       "      <td>Los Angeles-Long Beach-Anaheim, CA</td>\n",
       "      <td>Los Angeles County</td>\n",
       "      <td>234181.0</td>\n",
       "      <td>234401.0</td>\n",
       "      <td>...</td>\n",
       "      <td>924019.0</td>\n",
       "      <td>928991.0</td>\n",
       "      <td>937936.0</td>\n",
       "      <td>953874.0</td>\n",
       "      <td>973168.0</td>\n",
       "      <td>990391.0</td>\n",
       "      <td>992337.0</td>\n",
       "      <td>992630.0</td>\n",
       "      <td>978196.0</td>\n",
       "      <td>966595.0</td>\n",
       "    </tr>\n",
       "    <tr>\n",
       "      <th>2</th>\n",
       "      <td>39051</td>\n",
       "      <td>2</td>\n",
       "      <td>Houston</td>\n",
       "      <td>city</td>\n",
       "      <td>TX</td>\n",
       "      <td>TX</td>\n",
       "      <td>Houston-The Woodlands-Sugar Land, TX</td>\n",
       "      <td>Harris County</td>\n",
       "      <td>109068.0</td>\n",
       "      <td>109079.0</td>\n",
       "      <td>...</td>\n",
       "      <td>245783.0</td>\n",
       "      <td>248718.0</td>\n",
       "      <td>252080.0</td>\n",
       "      <td>256435.0</td>\n",
       "      <td>261101.0</td>\n",
       "      <td>265558.0</td>\n",
       "      <td>268901.0</td>\n",
       "      <td>271059.0</td>\n",
       "      <td>272400.0</td>\n",
       "      <td>272639.0</td>\n",
       "    </tr>\n",
       "    <tr>\n",
       "      <th>3</th>\n",
       "      <td>17426</td>\n",
       "      <td>3</td>\n",
       "      <td>Chicago</td>\n",
       "      <td>city</td>\n",
       "      <td>IL</td>\n",
       "      <td>IL</td>\n",
       "      <td>Chicago-Naperville-Elgin, IL-IN-WI</td>\n",
       "      <td>Cook County</td>\n",
       "      <td>166139.0</td>\n",
       "      <td>166536.0</td>\n",
       "      <td>...</td>\n",
       "      <td>302821.0</td>\n",
       "      <td>305104.0</td>\n",
       "      <td>306404.0</td>\n",
       "      <td>308303.0</td>\n",
       "      <td>309649.0</td>\n",
       "      <td>312487.0</td>\n",
       "      <td>314663.0</td>\n",
       "      <td>315910.0</td>\n",
       "      <td>315587.0</td>\n",
       "      <td>315429.0</td>\n",
       "    </tr>\n",
       "  </tbody>\n",
       "</table>\n",
       "<p>4 rows × 281 columns</p>\n",
       "</div>"
      ],
      "text/plain": [
       "   RegionID  SizeRank   RegionName RegionType StateName State  \\\n",
       "0      6181         0     New York       city        NY    NY   \n",
       "1     12447         1  Los Angeles       city        CA    CA   \n",
       "2     39051         2      Houston       city        TX    TX   \n",
       "3     17426         3      Chicago       city        IL    IL   \n",
       "\n",
       "                                   Metro          CountyName  2000-01-31  \\\n",
       "0  New York-Newark-Jersey City, NY-NJ-PA       Queens County    253690.0   \n",
       "1     Los Angeles-Long Beach-Anaheim, CA  Los Angeles County    234181.0   \n",
       "2   Houston-The Woodlands-Sugar Land, TX       Harris County    109068.0   \n",
       "3     Chicago-Naperville-Elgin, IL-IN-WI         Cook County    166139.0   \n",
       "\n",
       "   2000-02-29  ...  2021-12-31  2022-01-31  2022-02-28  2022-03-31  \\\n",
       "0    255517.0  ...    741586.0    745686.0    750578.0    756734.0   \n",
       "1    234401.0  ...    924019.0    928991.0    937936.0    953874.0   \n",
       "2    109079.0  ...    245783.0    248718.0    252080.0    256435.0   \n",
       "3    166536.0  ...    302821.0    305104.0    306404.0    308303.0   \n",
       "\n",
       "   2022-04-30  2022-05-31  2022-06-30  2022-07-31  2022-08-31  2022-09-30  \n",
       "0    762321.0    768797.0    773944.0    777692.0    779960.0    781622.0  \n",
       "1    973168.0    990391.0    992337.0    992630.0    978196.0    966595.0  \n",
       "2    261101.0    265558.0    268901.0    271059.0    272400.0    272639.0  \n",
       "3    309649.0    312487.0    314663.0    315910.0    315587.0    315429.0  \n",
       "\n",
       "[4 rows x 281 columns]"
      ]
     },
     "execution_count": 2,
     "metadata": {},
     "output_type": "execute_result"
    }
   ],
   "source": [
    "df_1  = pd.read_csv(\"City_zhvi_uc_sfrcondo_tier_0.33_0.67_sm_sa_month.zip\", \n",
    "                    low_memory=False,compression='zip')\n",
    "df_1.head(4)"
   ]
  },
  {
   "cell_type": "markdown",
   "id": "b7020123-395e-4cee-bc2b-e3739eeb6d59",
   "metadata": {},
   "source": [
    "#### Filter the 4 largest cities into a new dataframe."
   ]
  },
  {
   "cell_type": "code",
   "execution_count": 3,
   "id": "f33d906a-1164-4436-90c7-6153ba264e6b",
   "metadata": {},
   "outputs": [],
   "source": [
    "df = df_1.loc[0:3,:].copy()"
   ]
  },
  {
   "cell_type": "code",
   "execution_count": 4,
   "id": "8d6a5cf9-28cc-40d5-bf5f-7d7f49f2c20a",
   "metadata": {},
   "outputs": [
    {
     "data": {
      "text/html": [
       "<div>\n",
       "<style scoped>\n",
       "    .dataframe tbody tr th:only-of-type {\n",
       "        vertical-align: middle;\n",
       "    }\n",
       "\n",
       "    .dataframe tbody tr th {\n",
       "        vertical-align: top;\n",
       "    }\n",
       "\n",
       "    .dataframe thead th {\n",
       "        text-align: right;\n",
       "    }\n",
       "</style>\n",
       "<table border=\"1\" class=\"dataframe\">\n",
       "  <thead>\n",
       "    <tr style=\"text-align: right;\">\n",
       "      <th></th>\n",
       "      <th>RegionID</th>\n",
       "      <th>SizeRank</th>\n",
       "      <th>RegionName</th>\n",
       "      <th>RegionType</th>\n",
       "      <th>StateName</th>\n",
       "      <th>State</th>\n",
       "      <th>Metro</th>\n",
       "      <th>CountyName</th>\n",
       "      <th>2000-01-31</th>\n",
       "      <th>2000-02-29</th>\n",
       "      <th>...</th>\n",
       "      <th>2021-12-31</th>\n",
       "      <th>2022-01-31</th>\n",
       "      <th>2022-02-28</th>\n",
       "      <th>2022-03-31</th>\n",
       "      <th>2022-04-30</th>\n",
       "      <th>2022-05-31</th>\n",
       "      <th>2022-06-30</th>\n",
       "      <th>2022-07-31</th>\n",
       "      <th>2022-08-31</th>\n",
       "      <th>2022-09-30</th>\n",
       "    </tr>\n",
       "  </thead>\n",
       "  <tbody>\n",
       "    <tr>\n",
       "      <th>0</th>\n",
       "      <td>6181</td>\n",
       "      <td>0</td>\n",
       "      <td>New York</td>\n",
       "      <td>city</td>\n",
       "      <td>NY</td>\n",
       "      <td>NY</td>\n",
       "      <td>New York-Newark-Jersey City, NY-NJ-PA</td>\n",
       "      <td>Queens County</td>\n",
       "      <td>253690.0</td>\n",
       "      <td>255517.0</td>\n",
       "      <td>...</td>\n",
       "      <td>741586.0</td>\n",
       "      <td>745686.0</td>\n",
       "      <td>750578.0</td>\n",
       "      <td>756734.0</td>\n",
       "      <td>762321.0</td>\n",
       "      <td>768797.0</td>\n",
       "      <td>773944.0</td>\n",
       "      <td>777692.0</td>\n",
       "      <td>779960.0</td>\n",
       "      <td>781622.0</td>\n",
       "    </tr>\n",
       "    <tr>\n",
       "      <th>1</th>\n",
       "      <td>12447</td>\n",
       "      <td>1</td>\n",
       "      <td>Los Angeles</td>\n",
       "      <td>city</td>\n",
       "      <td>CA</td>\n",
       "      <td>CA</td>\n",
       "      <td>Los Angeles-Long Beach-Anaheim, CA</td>\n",
       "      <td>Los Angeles County</td>\n",
       "      <td>234181.0</td>\n",
       "      <td>234401.0</td>\n",
       "      <td>...</td>\n",
       "      <td>924019.0</td>\n",
       "      <td>928991.0</td>\n",
       "      <td>937936.0</td>\n",
       "      <td>953874.0</td>\n",
       "      <td>973168.0</td>\n",
       "      <td>990391.0</td>\n",
       "      <td>992337.0</td>\n",
       "      <td>992630.0</td>\n",
       "      <td>978196.0</td>\n",
       "      <td>966595.0</td>\n",
       "    </tr>\n",
       "    <tr>\n",
       "      <th>2</th>\n",
       "      <td>39051</td>\n",
       "      <td>2</td>\n",
       "      <td>Houston</td>\n",
       "      <td>city</td>\n",
       "      <td>TX</td>\n",
       "      <td>TX</td>\n",
       "      <td>Houston-The Woodlands-Sugar Land, TX</td>\n",
       "      <td>Harris County</td>\n",
       "      <td>109068.0</td>\n",
       "      <td>109079.0</td>\n",
       "      <td>...</td>\n",
       "      <td>245783.0</td>\n",
       "      <td>248718.0</td>\n",
       "      <td>252080.0</td>\n",
       "      <td>256435.0</td>\n",
       "      <td>261101.0</td>\n",
       "      <td>265558.0</td>\n",
       "      <td>268901.0</td>\n",
       "      <td>271059.0</td>\n",
       "      <td>272400.0</td>\n",
       "      <td>272639.0</td>\n",
       "    </tr>\n",
       "    <tr>\n",
       "      <th>3</th>\n",
       "      <td>17426</td>\n",
       "      <td>3</td>\n",
       "      <td>Chicago</td>\n",
       "      <td>city</td>\n",
       "      <td>IL</td>\n",
       "      <td>IL</td>\n",
       "      <td>Chicago-Naperville-Elgin, IL-IN-WI</td>\n",
       "      <td>Cook County</td>\n",
       "      <td>166139.0</td>\n",
       "      <td>166536.0</td>\n",
       "      <td>...</td>\n",
       "      <td>302821.0</td>\n",
       "      <td>305104.0</td>\n",
       "      <td>306404.0</td>\n",
       "      <td>308303.0</td>\n",
       "      <td>309649.0</td>\n",
       "      <td>312487.0</td>\n",
       "      <td>314663.0</td>\n",
       "      <td>315910.0</td>\n",
       "      <td>315587.0</td>\n",
       "      <td>315429.0</td>\n",
       "    </tr>\n",
       "  </tbody>\n",
       "</table>\n",
       "<p>4 rows × 281 columns</p>\n",
       "</div>"
      ],
      "text/plain": [
       "   RegionID  SizeRank   RegionName RegionType StateName State  \\\n",
       "0      6181         0     New York       city        NY    NY   \n",
       "1     12447         1  Los Angeles       city        CA    CA   \n",
       "2     39051         2      Houston       city        TX    TX   \n",
       "3     17426         3      Chicago       city        IL    IL   \n",
       "\n",
       "                                   Metro          CountyName  2000-01-31  \\\n",
       "0  New York-Newark-Jersey City, NY-NJ-PA       Queens County    253690.0   \n",
       "1     Los Angeles-Long Beach-Anaheim, CA  Los Angeles County    234181.0   \n",
       "2   Houston-The Woodlands-Sugar Land, TX       Harris County    109068.0   \n",
       "3     Chicago-Naperville-Elgin, IL-IN-WI         Cook County    166139.0   \n",
       "\n",
       "   2000-02-29  ...  2021-12-31  2022-01-31  2022-02-28  2022-03-31  \\\n",
       "0    255517.0  ...    741586.0    745686.0    750578.0    756734.0   \n",
       "1    234401.0  ...    924019.0    928991.0    937936.0    953874.0   \n",
       "2    109079.0  ...    245783.0    248718.0    252080.0    256435.0   \n",
       "3    166536.0  ...    302821.0    305104.0    306404.0    308303.0   \n",
       "\n",
       "   2022-04-30  2022-05-31  2022-06-30  2022-07-31  2022-08-31  2022-09-30  \n",
       "0    762321.0    768797.0    773944.0    777692.0    779960.0    781622.0  \n",
       "1    973168.0    990391.0    992337.0    992630.0    978196.0    966595.0  \n",
       "2    261101.0    265558.0    268901.0    271059.0    272400.0    272639.0  \n",
       "3    309649.0    312487.0    314663.0    315910.0    315587.0    315429.0  \n",
       "\n",
       "[4 rows x 281 columns]"
      ]
     },
     "execution_count": 4,
     "metadata": {},
     "output_type": "execute_result"
    }
   ],
   "source": [
    "df"
   ]
  },
  {
   "cell_type": "markdown",
   "id": "e2f65fe3-c388-4a75-a9ff-6345555ee105",
   "metadata": {},
   "source": [
    "#### Melt the data to long-form and prepare it for time series analysis"
   ]
  },
  {
   "cell_type": "code",
   "execution_count": 5,
   "id": "a8e1cb88-f13f-4f6b-88f3-109af0c4afab",
   "metadata": {},
   "outputs": [
    {
     "data": {
      "text/plain": [
       "Index(['RegionID', 'SizeRank', 'RegionName', 'RegionType', 'StateName',\n",
       "       'State', 'Metro', 'CountyName', '2000-01-31', '2000-02-29',\n",
       "       ...\n",
       "       '2021-12-31', '2022-01-31', '2022-02-28', '2022-03-31', '2022-04-30',\n",
       "       '2022-05-31', '2022-06-30', '2022-07-31', '2022-08-31', '2022-09-30'],\n",
       "      dtype='object', length=281)"
      ]
     },
     "execution_count": 5,
     "metadata": {},
     "output_type": "execute_result"
    }
   ],
   "source": [
    "df.columns"
   ]
  },
  {
   "cell_type": "code",
   "execution_count": 6,
   "id": "c32b97df-5499-4832-a661-0227b1678da1",
   "metadata": {},
   "outputs": [
    {
     "data": {
      "text/html": [
       "<div>\n",
       "<style scoped>\n",
       "    .dataframe tbody tr th:only-of-type {\n",
       "        vertical-align: middle;\n",
       "    }\n",
       "\n",
       "    .dataframe tbody tr th {\n",
       "        vertical-align: top;\n",
       "    }\n",
       "\n",
       "    .dataframe thead th {\n",
       "        text-align: right;\n",
       "    }\n",
       "</style>\n",
       "<table border=\"1\" class=\"dataframe\">\n",
       "  <thead>\n",
       "    <tr style=\"text-align: right;\">\n",
       "      <th></th>\n",
       "      <th>RegionID</th>\n",
       "      <th>SizeRank</th>\n",
       "      <th>RegionName</th>\n",
       "      <th>RegionType</th>\n",
       "      <th>StateName</th>\n",
       "      <th>State</th>\n",
       "      <th>Metro</th>\n",
       "      <th>variable</th>\n",
       "      <th>value</th>\n",
       "    </tr>\n",
       "  </thead>\n",
       "  <tbody>\n",
       "    <tr>\n",
       "      <th>0</th>\n",
       "      <td>6181</td>\n",
       "      <td>0</td>\n",
       "      <td>New York</td>\n",
       "      <td>city</td>\n",
       "      <td>NY</td>\n",
       "      <td>NY</td>\n",
       "      <td>New York-Newark-Jersey City, NY-NJ-PA</td>\n",
       "      <td>CountyName</td>\n",
       "      <td>Queens County</td>\n",
       "    </tr>\n",
       "    <tr>\n",
       "      <th>1</th>\n",
       "      <td>12447</td>\n",
       "      <td>1</td>\n",
       "      <td>Los Angeles</td>\n",
       "      <td>city</td>\n",
       "      <td>CA</td>\n",
       "      <td>CA</td>\n",
       "      <td>Los Angeles-Long Beach-Anaheim, CA</td>\n",
       "      <td>CountyName</td>\n",
       "      <td>Los Angeles County</td>\n",
       "    </tr>\n",
       "    <tr>\n",
       "      <th>2</th>\n",
       "      <td>39051</td>\n",
       "      <td>2</td>\n",
       "      <td>Houston</td>\n",
       "      <td>city</td>\n",
       "      <td>TX</td>\n",
       "      <td>TX</td>\n",
       "      <td>Houston-The Woodlands-Sugar Land, TX</td>\n",
       "      <td>CountyName</td>\n",
       "      <td>Harris County</td>\n",
       "    </tr>\n",
       "    <tr>\n",
       "      <th>3</th>\n",
       "      <td>17426</td>\n",
       "      <td>3</td>\n",
       "      <td>Chicago</td>\n",
       "      <td>city</td>\n",
       "      <td>IL</td>\n",
       "      <td>IL</td>\n",
       "      <td>Chicago-Naperville-Elgin, IL-IN-WI</td>\n",
       "      <td>CountyName</td>\n",
       "      <td>Cook County</td>\n",
       "    </tr>\n",
       "    <tr>\n",
       "      <th>4</th>\n",
       "      <td>6181</td>\n",
       "      <td>0</td>\n",
       "      <td>New York</td>\n",
       "      <td>city</td>\n",
       "      <td>NY</td>\n",
       "      <td>NY</td>\n",
       "      <td>New York-Newark-Jersey City, NY-NJ-PA</td>\n",
       "      <td>2000-01-31</td>\n",
       "      <td>253690.0</td>\n",
       "    </tr>\n",
       "    <tr>\n",
       "      <th>...</th>\n",
       "      <td>...</td>\n",
       "      <td>...</td>\n",
       "      <td>...</td>\n",
       "      <td>...</td>\n",
       "      <td>...</td>\n",
       "      <td>...</td>\n",
       "      <td>...</td>\n",
       "      <td>...</td>\n",
       "      <td>...</td>\n",
       "    </tr>\n",
       "    <tr>\n",
       "      <th>1091</th>\n",
       "      <td>17426</td>\n",
       "      <td>3</td>\n",
       "      <td>Chicago</td>\n",
       "      <td>city</td>\n",
       "      <td>IL</td>\n",
       "      <td>IL</td>\n",
       "      <td>Chicago-Naperville-Elgin, IL-IN-WI</td>\n",
       "      <td>2022-08-31</td>\n",
       "      <td>315587.0</td>\n",
       "    </tr>\n",
       "    <tr>\n",
       "      <th>1092</th>\n",
       "      <td>6181</td>\n",
       "      <td>0</td>\n",
       "      <td>New York</td>\n",
       "      <td>city</td>\n",
       "      <td>NY</td>\n",
       "      <td>NY</td>\n",
       "      <td>New York-Newark-Jersey City, NY-NJ-PA</td>\n",
       "      <td>2022-09-30</td>\n",
       "      <td>781622.0</td>\n",
       "    </tr>\n",
       "    <tr>\n",
       "      <th>1093</th>\n",
       "      <td>12447</td>\n",
       "      <td>1</td>\n",
       "      <td>Los Angeles</td>\n",
       "      <td>city</td>\n",
       "      <td>CA</td>\n",
       "      <td>CA</td>\n",
       "      <td>Los Angeles-Long Beach-Anaheim, CA</td>\n",
       "      <td>2022-09-30</td>\n",
       "      <td>966595.0</td>\n",
       "    </tr>\n",
       "    <tr>\n",
       "      <th>1094</th>\n",
       "      <td>39051</td>\n",
       "      <td>2</td>\n",
       "      <td>Houston</td>\n",
       "      <td>city</td>\n",
       "      <td>TX</td>\n",
       "      <td>TX</td>\n",
       "      <td>Houston-The Woodlands-Sugar Land, TX</td>\n",
       "      <td>2022-09-30</td>\n",
       "      <td>272639.0</td>\n",
       "    </tr>\n",
       "    <tr>\n",
       "      <th>1095</th>\n",
       "      <td>17426</td>\n",
       "      <td>3</td>\n",
       "      <td>Chicago</td>\n",
       "      <td>city</td>\n",
       "      <td>IL</td>\n",
       "      <td>IL</td>\n",
       "      <td>Chicago-Naperville-Elgin, IL-IN-WI</td>\n",
       "      <td>2022-09-30</td>\n",
       "      <td>315429.0</td>\n",
       "    </tr>\n",
       "  </tbody>\n",
       "</table>\n",
       "<p>1096 rows × 9 columns</p>\n",
       "</div>"
      ],
      "text/plain": [
       "      RegionID  SizeRank   RegionName RegionType StateName State  \\\n",
       "0         6181         0     New York       city        NY    NY   \n",
       "1        12447         1  Los Angeles       city        CA    CA   \n",
       "2        39051         2      Houston       city        TX    TX   \n",
       "3        17426         3      Chicago       city        IL    IL   \n",
       "4         6181         0     New York       city        NY    NY   \n",
       "...        ...       ...          ...        ...       ...   ...   \n",
       "1091     17426         3      Chicago       city        IL    IL   \n",
       "1092      6181         0     New York       city        NY    NY   \n",
       "1093     12447         1  Los Angeles       city        CA    CA   \n",
       "1094     39051         2      Houston       city        TX    TX   \n",
       "1095     17426         3      Chicago       city        IL    IL   \n",
       "\n",
       "                                      Metro    variable               value  \n",
       "0     New York-Newark-Jersey City, NY-NJ-PA  CountyName       Queens County  \n",
       "1        Los Angeles-Long Beach-Anaheim, CA  CountyName  Los Angeles County  \n",
       "2      Houston-The Woodlands-Sugar Land, TX  CountyName       Harris County  \n",
       "3        Chicago-Naperville-Elgin, IL-IN-WI  CountyName         Cook County  \n",
       "4     New York-Newark-Jersey City, NY-NJ-PA  2000-01-31            253690.0  \n",
       "...                                     ...         ...                 ...  \n",
       "1091     Chicago-Naperville-Elgin, IL-IN-WI  2022-08-31            315587.0  \n",
       "1092  New York-Newark-Jersey City, NY-NJ-PA  2022-09-30            781622.0  \n",
       "1093     Los Angeles-Long Beach-Anaheim, CA  2022-09-30            966595.0  \n",
       "1094   Houston-The Woodlands-Sugar Land, TX  2022-09-30            272639.0  \n",
       "1095     Chicago-Naperville-Elgin, IL-IN-WI  2022-09-30            315429.0  \n",
       "\n",
       "[1096 rows x 9 columns]"
      ]
     },
     "execution_count": 6,
     "metadata": {},
     "output_type": "execute_result"
    }
   ],
   "source": [
    "melted = pd.melt(df,id_vars=['RegionID', 'SizeRank', 'RegionName', 'RegionType', 'StateName','State', 'Metro'] )\n",
    "melted"
   ]
  },
  {
   "cell_type": "code",
   "execution_count": 7,
   "id": "25277b93-7d17-4bc6-9065-a22b28d865fa",
   "metadata": {},
   "outputs": [
    {
     "name": "stdout",
     "output_type": "stream",
     "text": [
      "<class 'pandas.core.frame.DataFrame'>\n",
      "RangeIndex: 1096 entries, 0 to 1095\n",
      "Data columns (total 9 columns):\n",
      " #   Column      Non-Null Count  Dtype \n",
      "---  ------      --------------  ----- \n",
      " 0   RegionID    1096 non-null   int64 \n",
      " 1   SizeRank    1096 non-null   int64 \n",
      " 2   RegionName  1096 non-null   object\n",
      " 3   RegionType  1096 non-null   object\n",
      " 4   StateName   1096 non-null   object\n",
      " 5   State       1096 non-null   object\n",
      " 6   Metro       1096 non-null   object\n",
      " 7   variable    1096 non-null   object\n",
      " 8   value       1091 non-null   object\n",
      "dtypes: int64(2), object(7)\n",
      "memory usage: 77.2+ KB\n"
     ]
    }
   ],
   "source": [
    "melted.info()"
   ]
  },
  {
   "cell_type": "markdown",
   "id": "c19509d4-6557-461a-a8e6-e1b9b767c5f5",
   "metadata": {},
   "source": [
    "- Since these values are the Zillow House Value Index, we will name this column ```\"ZHVI\"```.\n",
    "- To simplify our output, we also decided to drop the ```'RegionID', 'SizeRank', 'StateName','State',``` and ```'Metro'``` values here."
   ]
  },
  {
   "cell_type": "code",
   "execution_count": 8,
   "id": "81652f2c-76be-4585-a0a8-a9a5377083b3",
   "metadata": {},
   "outputs": [
    {
     "data": {
      "text/html": [
       "<div>\n",
       "<style scoped>\n",
       "    .dataframe tbody tr th:only-of-type {\n",
       "        vertical-align: middle;\n",
       "    }\n",
       "\n",
       "    .dataframe tbody tr th {\n",
       "        vertical-align: top;\n",
       "    }\n",
       "\n",
       "    .dataframe thead th {\n",
       "        text-align: right;\n",
       "    }\n",
       "</style>\n",
       "<table border=\"1\" class=\"dataframe\">\n",
       "  <thead>\n",
       "    <tr style=\"text-align: right;\">\n",
       "      <th></th>\n",
       "      <th>RegionName</th>\n",
       "      <th>RegionType</th>\n",
       "      <th>Date</th>\n",
       "      <th>ZHVI</th>\n",
       "    </tr>\n",
       "  </thead>\n",
       "  <tbody>\n",
       "    <tr>\n",
       "      <th>0</th>\n",
       "      <td>New York</td>\n",
       "      <td>city</td>\n",
       "      <td>CountyName</td>\n",
       "      <td>Queens County</td>\n",
       "    </tr>\n",
       "    <tr>\n",
       "      <th>1</th>\n",
       "      <td>Los Angeles</td>\n",
       "      <td>city</td>\n",
       "      <td>CountyName</td>\n",
       "      <td>Los Angeles County</td>\n",
       "    </tr>\n",
       "    <tr>\n",
       "      <th>2</th>\n",
       "      <td>Houston</td>\n",
       "      <td>city</td>\n",
       "      <td>CountyName</td>\n",
       "      <td>Harris County</td>\n",
       "    </tr>\n",
       "    <tr>\n",
       "      <th>3</th>\n",
       "      <td>Chicago</td>\n",
       "      <td>city</td>\n",
       "      <td>CountyName</td>\n",
       "      <td>Cook County</td>\n",
       "    </tr>\n",
       "    <tr>\n",
       "      <th>4</th>\n",
       "      <td>New York</td>\n",
       "      <td>city</td>\n",
       "      <td>2000-01-31</td>\n",
       "      <td>253690.0</td>\n",
       "    </tr>\n",
       "    <tr>\n",
       "      <th>...</th>\n",
       "      <td>...</td>\n",
       "      <td>...</td>\n",
       "      <td>...</td>\n",
       "      <td>...</td>\n",
       "    </tr>\n",
       "    <tr>\n",
       "      <th>1091</th>\n",
       "      <td>Chicago</td>\n",
       "      <td>city</td>\n",
       "      <td>2022-08-31</td>\n",
       "      <td>315587.0</td>\n",
       "    </tr>\n",
       "    <tr>\n",
       "      <th>1092</th>\n",
       "      <td>New York</td>\n",
       "      <td>city</td>\n",
       "      <td>2022-09-30</td>\n",
       "      <td>781622.0</td>\n",
       "    </tr>\n",
       "    <tr>\n",
       "      <th>1093</th>\n",
       "      <td>Los Angeles</td>\n",
       "      <td>city</td>\n",
       "      <td>2022-09-30</td>\n",
       "      <td>966595.0</td>\n",
       "    </tr>\n",
       "    <tr>\n",
       "      <th>1094</th>\n",
       "      <td>Houston</td>\n",
       "      <td>city</td>\n",
       "      <td>2022-09-30</td>\n",
       "      <td>272639.0</td>\n",
       "    </tr>\n",
       "    <tr>\n",
       "      <th>1095</th>\n",
       "      <td>Chicago</td>\n",
       "      <td>city</td>\n",
       "      <td>2022-09-30</td>\n",
       "      <td>315429.0</td>\n",
       "    </tr>\n",
       "  </tbody>\n",
       "</table>\n",
       "<p>1096 rows × 4 columns</p>\n",
       "</div>"
      ],
      "text/plain": [
       "       RegionName RegionType        Date                ZHVI\n",
       "0        New York       city  CountyName       Queens County\n",
       "1     Los Angeles       city  CountyName  Los Angeles County\n",
       "2         Houston       city  CountyName       Harris County\n",
       "3         Chicago       city  CountyName         Cook County\n",
       "4        New York       city  2000-01-31            253690.0\n",
       "...           ...        ...         ...                 ...\n",
       "1091      Chicago       city  2022-08-31            315587.0\n",
       "1092     New York       city  2022-09-30            781622.0\n",
       "1093  Los Angeles       city  2022-09-30            966595.0\n",
       "1094      Houston       city  2022-09-30            272639.0\n",
       "1095      Chicago       city  2022-09-30            315429.0\n",
       "\n",
       "[1096 rows x 4 columns]"
      ]
     },
     "execution_count": 8,
     "metadata": {},
     "output_type": "execute_result"
    }
   ],
   "source": [
    "melted = pd.melt(df.drop(columns=['RegionID', 'SizeRank', 'StateName','State', 'Metro']),\n",
    "                 id_vars=['RegionName', 'RegionType'],\n",
    "                value_name='ZHVI',var_name=\"Date\")\n",
    "melted"
   ]
  },
  {
   "cell_type": "markdown",
   "id": "e412e111-f293-4569-ad72-b4531fb602bf",
   "metadata": {},
   "source": [
    "##### Doing some Data Clean Up\n",
    "> Checking for incosistencies on 'RegionType'"
   ]
  },
  {
   "cell_type": "code",
   "execution_count": 9,
   "id": "2c114f02-d5af-46f5-9c76-a792ce3556ae",
   "metadata": {},
   "outputs": [
    {
     "data": {
      "text/plain": [
       "city    1096\n",
       "Name: RegionType, dtype: int64"
      ]
     },
     "execution_count": 9,
     "metadata": {},
     "output_type": "execute_result"
    }
   ],
   "source": [
    "melted['RegionType'].value_counts()"
   ]
  },
  {
   "cell_type": "markdown",
   "id": "2ff9166e-dfcf-4f83-9b95-3b5247022f92",
   "metadata": {},
   "source": [
    "> We can drop this column"
   ]
  },
  {
   "cell_type": "code",
   "execution_count": 10,
   "id": "3279bc34-dfe9-4dd5-9166-71bf47e01f36",
   "metadata": {},
   "outputs": [],
   "source": [
    "melted = melted.drop(['RegionType'], axis=1)"
   ]
  },
  {
   "cell_type": "markdown",
   "id": "218a18b6-807d-4d01-a61f-70abdf4bccf3",
   "metadata": {},
   "source": [
    "> Cheking for missing values"
   ]
  },
  {
   "cell_type": "code",
   "execution_count": 11,
   "id": "aaf2cc04-5d49-4d1c-9db3-16d46a2e4c33",
   "metadata": {},
   "outputs": [
    {
     "name": "stdout",
     "output_type": "stream",
     "text": [
      "<class 'pandas.core.frame.DataFrame'>\n",
      "RangeIndex: 1096 entries, 0 to 1095\n",
      "Data columns (total 3 columns):\n",
      " #   Column      Non-Null Count  Dtype \n",
      "---  ------      --------------  ----- \n",
      " 0   RegionName  1096 non-null   object\n",
      " 1   Date        1096 non-null   object\n",
      " 2   ZHVI        1091 non-null   object\n",
      "dtypes: object(3)\n",
      "memory usage: 25.8+ KB\n"
     ]
    }
   ],
   "source": [
    "melted.info()"
   ]
  },
  {
   "cell_type": "code",
   "execution_count": 12,
   "id": "84a94442-3c47-431f-9aeb-a0b5d23b97c6",
   "metadata": {},
   "outputs": [
    {
     "data": {
      "text/plain": [
       "RegionName    0\n",
       "Date          0\n",
       "ZHVI          5\n",
       "dtype: int64"
      ]
     },
     "execution_count": 12,
     "metadata": {},
     "output_type": "execute_result"
    }
   ],
   "source": [
    "melted.isna().sum()"
   ]
  },
  {
   "cell_type": "markdown",
   "id": "2653957c-86ba-4a43-b038-fce3cf3776e6",
   "metadata": {},
   "source": [
    "> Missing vales are less that 1%, therefore should not affect the analisys"
   ]
  },
  {
   "cell_type": "code",
   "execution_count": 13,
   "id": "92a08733-36f2-47c5-bdc9-ec70916bd036",
   "metadata": {},
   "outputs": [],
   "source": [
    "melted.dropna(inplace=True)"
   ]
  },
  {
   "cell_type": "code",
   "execution_count": 14,
   "id": "347e85c7-8322-4acd-9564-418b79626f22",
   "metadata": {},
   "outputs": [
    {
     "data": {
      "text/plain": [
       "RegionName    0\n",
       "Date          0\n",
       "ZHVI          0\n",
       "dtype: int64"
      ]
     },
     "execution_count": 14,
     "metadata": {},
     "output_type": "execute_result"
    }
   ],
   "source": [
    "melted.isna().sum()"
   ]
  },
  {
   "cell_type": "markdown",
   "id": "c90c0894-885d-4e9a-b1df-b6794aa55c1a",
   "metadata": {},
   "source": [
    "##### Set Dat as index"
   ]
  },
  {
   "cell_type": "code",
   "execution_count": 15,
   "id": "ef768378-f9a3-4651-8b4f-05bd20c7e983",
   "metadata": {},
   "outputs": [
    {
     "data": {
      "text/plain": [
       "CountyName    4\n",
       "2014-12-31    4\n",
       "2015-06-30    4\n",
       "2015-05-31    4\n",
       "2015-04-30    4\n",
       "             ..\n",
       "2006-06-30    3\n",
       "2002-05-31    3\n",
       "2008-03-31    3\n",
       "2008-04-30    3\n",
       "2004-03-31    3\n",
       "Name: Date, Length: 274, dtype: int64"
      ]
     },
     "execution_count": 15,
     "metadata": {},
     "output_type": "execute_result"
    }
   ],
   "source": [
    "melted['Date'].value_counts()"
   ]
  },
  {
   "cell_type": "markdown",
   "id": "9fd56f54-8b53-4910-83cb-37dc02dc8c9d",
   "metadata": {},
   "source": [
    "> Removing rows with string ```'CountyName'```, and setting ```'Date'``` as index. We will make a copy to avoid data leakage and asisgn to melted_ready_df"
   ]
  },
  {
   "cell_type": "code",
   "execution_count": 16,
   "id": "46baaeac-d6bc-4242-ac78-43df86daf489",
   "metadata": {},
   "outputs": [],
   "source": [
    "melted = melted[~(melted['Date']=='CountyName')]"
   ]
  },
  {
   "cell_type": "code",
   "execution_count": 17,
   "id": "8608e1ae-5e68-46ef-950b-45c0a6ad4dfd",
   "metadata": {},
   "outputs": [
    {
     "name": "stdout",
     "output_type": "stream",
     "text": [
      "<class 'pandas.core.frame.DataFrame'>\n",
      "Int64Index: 1087 entries, 4 to 1095\n",
      "Data columns (total 3 columns):\n",
      " #   Column      Non-Null Count  Dtype         \n",
      "---  ------      --------------  -----         \n",
      " 0   RegionName  1087 non-null   object        \n",
      " 1   Date        1087 non-null   datetime64[ns]\n",
      " 2   ZHVI        1087 non-null   object        \n",
      "dtypes: datetime64[ns](1), object(2)\n",
      "memory usage: 34.0+ KB\n"
     ]
    }
   ],
   "source": [
    "melted['Date'] = pd.to_datetime(melted['Date'])\n",
    "melted.info()"
   ]
  },
  {
   "cell_type": "code",
   "execution_count": 18,
   "id": "eb5cce97-ba45-4f94-bcfd-efdef75c17c2",
   "metadata": {},
   "outputs": [],
   "source": [
    "melted_ready_df = melted[~(melted['Date']=='CountyName')].set_index(\"Date\").copy()"
   ]
  },
  {
   "cell_type": "code",
   "execution_count": 19,
   "id": "aa7c5a3f-33fe-4e03-a8d7-75c210b05ca5",
   "metadata": {},
   "outputs": [
    {
     "data": {
      "text/plain": [
       "array(['New York', 'Los Angeles', 'Houston', 'Chicago'], dtype=object)"
      ]
     },
     "execution_count": 19,
     "metadata": {},
     "output_type": "execute_result"
    }
   ],
   "source": [
    "melted_ready_df['RegionName'].unique()"
   ]
  },
  {
   "cell_type": "markdown",
   "id": "625db20a-302f-4d9c-b3d6-d51b0a139c05",
   "metadata": {},
   "source": [
    "> There are 4 unique cities included"
   ]
  },
  {
   "cell_type": "code",
   "execution_count": 20,
   "id": "5248f5fa-a468-4f21-99ae-275c0c399052",
   "metadata": {},
   "outputs": [
    {
     "data": {
      "text/html": [
       "<div>\n",
       "<style scoped>\n",
       "    .dataframe tbody tr th:only-of-type {\n",
       "        vertical-align: middle;\n",
       "    }\n",
       "\n",
       "    .dataframe tbody tr th {\n",
       "        vertical-align: top;\n",
       "    }\n",
       "\n",
       "    .dataframe thead th {\n",
       "        text-align: right;\n",
       "    }\n",
       "</style>\n",
       "<table border=\"1\" class=\"dataframe\">\n",
       "  <thead>\n",
       "    <tr style=\"text-align: right;\">\n",
       "      <th></th>\n",
       "      <th>RegionName</th>\n",
       "      <th>ZHVI</th>\n",
       "    </tr>\n",
       "    <tr>\n",
       "      <th>Date</th>\n",
       "      <th></th>\n",
       "      <th></th>\n",
       "    </tr>\n",
       "  </thead>\n",
       "  <tbody>\n",
       "    <tr>\n",
       "      <th>2000-01-31</th>\n",
       "      <td>New York</td>\n",
       "      <td>253690.0</td>\n",
       "    </tr>\n",
       "    <tr>\n",
       "      <th>2000-01-31</th>\n",
       "      <td>Los Angeles</td>\n",
       "      <td>234181.0</td>\n",
       "    </tr>\n",
       "    <tr>\n",
       "      <th>2000-01-31</th>\n",
       "      <td>Houston</td>\n",
       "      <td>109068.0</td>\n",
       "    </tr>\n",
       "    <tr>\n",
       "      <th>2000-01-31</th>\n",
       "      <td>Chicago</td>\n",
       "      <td>166139.0</td>\n",
       "    </tr>\n",
       "    <tr>\n",
       "      <th>2000-02-29</th>\n",
       "      <td>New York</td>\n",
       "      <td>255517.0</td>\n",
       "    </tr>\n",
       "    <tr>\n",
       "      <th>...</th>\n",
       "      <td>...</td>\n",
       "      <td>...</td>\n",
       "    </tr>\n",
       "    <tr>\n",
       "      <th>2022-08-31</th>\n",
       "      <td>Chicago</td>\n",
       "      <td>315587.0</td>\n",
       "    </tr>\n",
       "    <tr>\n",
       "      <th>2022-09-30</th>\n",
       "      <td>New York</td>\n",
       "      <td>781622.0</td>\n",
       "    </tr>\n",
       "    <tr>\n",
       "      <th>2022-09-30</th>\n",
       "      <td>Los Angeles</td>\n",
       "      <td>966595.0</td>\n",
       "    </tr>\n",
       "    <tr>\n",
       "      <th>2022-09-30</th>\n",
       "      <td>Houston</td>\n",
       "      <td>272639.0</td>\n",
       "    </tr>\n",
       "    <tr>\n",
       "      <th>2022-09-30</th>\n",
       "      <td>Chicago</td>\n",
       "      <td>315429.0</td>\n",
       "    </tr>\n",
       "  </tbody>\n",
       "</table>\n",
       "<p>1087 rows × 2 columns</p>\n",
       "</div>"
      ],
      "text/plain": [
       "             RegionName      ZHVI\n",
       "Date                             \n",
       "2000-01-31     New York  253690.0\n",
       "2000-01-31  Los Angeles  234181.0\n",
       "2000-01-31      Houston  109068.0\n",
       "2000-01-31      Chicago  166139.0\n",
       "2000-02-29     New York  255517.0\n",
       "...                 ...       ...\n",
       "2022-08-31      Chicago  315587.0\n",
       "2022-09-30     New York  781622.0\n",
       "2022-09-30  Los Angeles  966595.0\n",
       "2022-09-30      Houston  272639.0\n",
       "2022-09-30      Chicago  315429.0\n",
       "\n",
       "[1087 rows x 2 columns]"
      ]
     },
     "execution_count": 20,
     "metadata": {},
     "output_type": "execute_result"
    }
   ],
   "source": [
    "melted_ready_df"
   ]
  },
  {
   "cell_type": "markdown",
   "id": "97a8206c-d9b0-47d8-9f08-e9f79cec73d9",
   "metadata": {},
   "source": [
    "##### Resample the dataframe as monthly frequency, grouped by City."
   ]
  },
  {
   "cell_type": "code",
   "execution_count": 21,
   "id": "6165d8d6-a920-4662-a01f-e235111ab348",
   "metadata": {},
   "outputs": [],
   "source": [
    "df_ts = melted_ready_df.groupby(['RegionName']).resample('MS').sum()\n",
    "# Droping RegionName column\n",
    "df_ts.drop(['RegionName'], axis=1, inplace=True)\n"
   ]
  },
  {
   "cell_type": "code",
   "execution_count": 22,
   "id": "ceecc982-2bd2-4e2c-ac0e-d58662e1f4ee",
   "metadata": {},
   "outputs": [
    {
     "data": {
      "text/plain": [
       "MultiIndex([('Chicago', '2000-01-01'),\n",
       "            ('Chicago', '2000-02-01'),\n",
       "            ('Chicago', '2000-03-01'),\n",
       "            ('Chicago', '2000-04-01'),\n",
       "            ('Chicago', '2000-05-01')],\n",
       "           names=['RegionName', 'Date'])"
      ]
     },
     "execution_count": 22,
     "metadata": {},
     "output_type": "execute_result"
    }
   ],
   "source": [
    "df_ts.head().index"
   ]
  },
  {
   "cell_type": "markdown",
   "id": "7d21b3d9-e9fa-45b4-bd2c-db843cfa1715",
   "metadata": {},
   "source": [
    "### Part 2\n",
    "#### Plot the home values for all 4 cities"
   ]
  },
  {
   "cell_type": "code",
   "execution_count": 23,
   "id": "e75886c3-8d32-46da-bd60-a1768a396189",
   "metadata": {},
   "outputs": [
    {
     "data": {
      "text/html": [
       "<div>\n",
       "<style scoped>\n",
       "    .dataframe tbody tr th:only-of-type {\n",
       "        vertical-align: middle;\n",
       "    }\n",
       "\n",
       "    .dataframe tbody tr th {\n",
       "        vertical-align: top;\n",
       "    }\n",
       "\n",
       "    .dataframe thead th {\n",
       "        text-align: right;\n",
       "    }\n",
       "</style>\n",
       "<table border=\"1\" class=\"dataframe\">\n",
       "  <thead>\n",
       "    <tr style=\"text-align: right;\">\n",
       "      <th></th>\n",
       "      <th></th>\n",
       "      <th>ZHVI</th>\n",
       "    </tr>\n",
       "    <tr>\n",
       "      <th>RegionName</th>\n",
       "      <th>Date</th>\n",
       "      <th></th>\n",
       "    </tr>\n",
       "  </thead>\n",
       "  <tbody>\n",
       "    <tr>\n",
       "      <th rowspan=\"5\" valign=\"top\">New York</th>\n",
       "      <th>2000-01-01</th>\n",
       "      <td>253690.0</td>\n",
       "    </tr>\n",
       "    <tr>\n",
       "      <th>2000-02-01</th>\n",
       "      <td>255517.0</td>\n",
       "    </tr>\n",
       "    <tr>\n",
       "      <th>2000-03-01</th>\n",
       "      <td>257207.0</td>\n",
       "    </tr>\n",
       "    <tr>\n",
       "      <th>2000-04-01</th>\n",
       "      <td>260310.0</td>\n",
       "    </tr>\n",
       "    <tr>\n",
       "      <th>2000-05-01</th>\n",
       "      <td>263204.0</td>\n",
       "    </tr>\n",
       "    <tr>\n",
       "      <th>...</th>\n",
       "      <th>...</th>\n",
       "      <td>...</td>\n",
       "    </tr>\n",
       "    <tr>\n",
       "      <th rowspan=\"5\" valign=\"top\">Chicago</th>\n",
       "      <th>2022-05-01</th>\n",
       "      <td>312487.0</td>\n",
       "    </tr>\n",
       "    <tr>\n",
       "      <th>2022-06-01</th>\n",
       "      <td>314663.0</td>\n",
       "    </tr>\n",
       "    <tr>\n",
       "      <th>2022-07-01</th>\n",
       "      <td>315910.0</td>\n",
       "    </tr>\n",
       "    <tr>\n",
       "      <th>2022-08-01</th>\n",
       "      <td>315587.0</td>\n",
       "    </tr>\n",
       "    <tr>\n",
       "      <th>2022-09-01</th>\n",
       "      <td>315429.0</td>\n",
       "    </tr>\n",
       "  </tbody>\n",
       "</table>\n",
       "<p>1092 rows × 1 columns</p>\n",
       "</div>"
      ],
      "text/plain": [
       "                           ZHVI\n",
       "RegionName Date                \n",
       "New York   2000-01-01  253690.0\n",
       "           2000-02-01  255517.0\n",
       "           2000-03-01  257207.0\n",
       "           2000-04-01  260310.0\n",
       "           2000-05-01  263204.0\n",
       "...                         ...\n",
       "Chicago    2022-05-01  312487.0\n",
       "           2022-06-01  314663.0\n",
       "           2022-07-01  315910.0\n",
       "           2022-08-01  315587.0\n",
       "           2022-09-01  315429.0\n",
       "\n",
       "[1092 rows x 1 columns]"
      ]
     },
     "execution_count": 23,
     "metadata": {},
     "output_type": "execute_result"
    }
   ],
   "source": [
    "cities = ['New York', 'Los Angeles', 'Houston', 'Chicago']\n",
    "plot_df = df_ts.loc[cities].copy()\n",
    "plot_df"
   ]
  },
  {
   "cell_type": "code",
   "execution_count": 24,
   "id": "09eb2924-ebe7-4c67-8cfb-09df7e7aa835",
   "metadata": {},
   "outputs": [
    {
     "data": {
      "text/plain": [
       "Index(['New York', 'New York', 'New York', 'New York', 'New York', 'New York',\n",
       "       'New York', 'New York', 'New York', 'New York',\n",
       "       ...\n",
       "       'Chicago', 'Chicago', 'Chicago', 'Chicago', 'Chicago', 'Chicago',\n",
       "       'Chicago', 'Chicago', 'Chicago', 'Chicago'],\n",
       "      dtype='object', name='RegionName', length=1092)"
      ]
     },
     "execution_count": 24,
     "metadata": {},
     "output_type": "execute_result"
    }
   ],
   "source": [
    "# level 0 is Cities\n",
    "plot_df.index.get_level_values(0)"
   ]
  },
  {
   "cell_type": "code",
   "execution_count": 25,
   "id": "7832121b-6c78-4ba2-b6cc-2f467023c53c",
   "metadata": {},
   "outputs": [
    {
     "data": {
      "text/plain": [
       "DatetimeIndex(['2000-01-01', '2000-02-01', '2000-03-01', '2000-04-01',\n",
       "               '2000-05-01', '2000-06-01', '2000-07-01', '2000-08-01',\n",
       "               '2000-09-01', '2000-10-01',\n",
       "               ...\n",
       "               '2021-12-01', '2022-01-01', '2022-02-01', '2022-03-01',\n",
       "               '2022-04-01', '2022-05-01', '2022-06-01', '2022-07-01',\n",
       "               '2022-08-01', '2022-09-01'],\n",
       "              dtype='datetime64[ns]', name='Date', length=1092, freq=None)"
      ]
     },
     "execution_count": 25,
     "metadata": {},
     "output_type": "execute_result"
    }
   ],
   "source": [
    "# level 1 is Date\n",
    "plot_df.index.get_level_values(1)"
   ]
  },
  {
   "cell_type": "markdown",
   "id": "c8cbb844-6c22-406d-bd34-64712f53628e",
   "metadata": {},
   "source": [
    "#### Applying unstack() for Our Visualization"
   ]
  },
  {
   "cell_type": "code",
   "execution_count": 26,
   "id": "e9f48a16-80e6-4be0-a6e5-94d64615c874",
   "metadata": {},
   "outputs": [
    {
     "data": {
      "text/html": [
       "<div>\n",
       "<style scoped>\n",
       "    .dataframe tbody tr th:only-of-type {\n",
       "        vertical-align: middle;\n",
       "    }\n",
       "\n",
       "    .dataframe tbody tr th {\n",
       "        vertical-align: top;\n",
       "    }\n",
       "\n",
       "    .dataframe thead tr th {\n",
       "        text-align: left;\n",
       "    }\n",
       "\n",
       "    .dataframe thead tr:last-of-type th {\n",
       "        text-align: right;\n",
       "    }\n",
       "</style>\n",
       "<table border=\"1\" class=\"dataframe\">\n",
       "  <thead>\n",
       "    <tr>\n",
       "      <th></th>\n",
       "      <th colspan=\"4\" halign=\"left\">ZHVI</th>\n",
       "    </tr>\n",
       "    <tr>\n",
       "      <th>RegionName</th>\n",
       "      <th>Chicago</th>\n",
       "      <th>Houston</th>\n",
       "      <th>Los Angeles</th>\n",
       "      <th>New York</th>\n",
       "    </tr>\n",
       "    <tr>\n",
       "      <th>Date</th>\n",
       "      <th></th>\n",
       "      <th></th>\n",
       "      <th></th>\n",
       "      <th></th>\n",
       "    </tr>\n",
       "  </thead>\n",
       "  <tbody>\n",
       "    <tr>\n",
       "      <th>2000-01-01</th>\n",
       "      <td>166139.0</td>\n",
       "      <td>109068.0</td>\n",
       "      <td>234181.0</td>\n",
       "      <td>253690.0</td>\n",
       "    </tr>\n",
       "    <tr>\n",
       "      <th>2000-02-01</th>\n",
       "      <td>166536.0</td>\n",
       "      <td>109079.0</td>\n",
       "      <td>234401.0</td>\n",
       "      <td>255517.0</td>\n",
       "    </tr>\n",
       "    <tr>\n",
       "      <th>2000-03-01</th>\n",
       "      <td>167368.0</td>\n",
       "      <td>108878.0</td>\n",
       "      <td>235513.0</td>\n",
       "      <td>257207.0</td>\n",
       "    </tr>\n",
       "    <tr>\n",
       "      <th>2000-04-01</th>\n",
       "      <td>168826.0</td>\n",
       "      <td>108881.0</td>\n",
       "      <td>237589.0</td>\n",
       "      <td>260310.0</td>\n",
       "    </tr>\n",
       "    <tr>\n",
       "      <th>2000-05-01</th>\n",
       "      <td>170499.0</td>\n",
       "      <td>108834.0</td>\n",
       "      <td>240113.0</td>\n",
       "      <td>263204.0</td>\n",
       "    </tr>\n",
       "    <tr>\n",
       "      <th>...</th>\n",
       "      <td>...</td>\n",
       "      <td>...</td>\n",
       "      <td>...</td>\n",
       "      <td>...</td>\n",
       "    </tr>\n",
       "    <tr>\n",
       "      <th>2022-05-01</th>\n",
       "      <td>312487.0</td>\n",
       "      <td>265558.0</td>\n",
       "      <td>990391.0</td>\n",
       "      <td>768797.0</td>\n",
       "    </tr>\n",
       "    <tr>\n",
       "      <th>2022-06-01</th>\n",
       "      <td>314663.0</td>\n",
       "      <td>268901.0</td>\n",
       "      <td>992337.0</td>\n",
       "      <td>773944.0</td>\n",
       "    </tr>\n",
       "    <tr>\n",
       "      <th>2022-07-01</th>\n",
       "      <td>315910.0</td>\n",
       "      <td>271059.0</td>\n",
       "      <td>992630.0</td>\n",
       "      <td>777692.0</td>\n",
       "    </tr>\n",
       "    <tr>\n",
       "      <th>2022-08-01</th>\n",
       "      <td>315587.0</td>\n",
       "      <td>272400.0</td>\n",
       "      <td>978196.0</td>\n",
       "      <td>779960.0</td>\n",
       "    </tr>\n",
       "    <tr>\n",
       "      <th>2022-09-01</th>\n",
       "      <td>315429.0</td>\n",
       "      <td>272639.0</td>\n",
       "      <td>966595.0</td>\n",
       "      <td>781622.0</td>\n",
       "    </tr>\n",
       "  </tbody>\n",
       "</table>\n",
       "<p>273 rows × 4 columns</p>\n",
       "</div>"
      ],
      "text/plain": [
       "                ZHVI                                \n",
       "RegionName   Chicago   Houston Los Angeles  New York\n",
       "Date                                                \n",
       "2000-01-01  166139.0  109068.0    234181.0  253690.0\n",
       "2000-02-01  166536.0  109079.0    234401.0  255517.0\n",
       "2000-03-01  167368.0  108878.0    235513.0  257207.0\n",
       "2000-04-01  168826.0  108881.0    237589.0  260310.0\n",
       "2000-05-01  170499.0  108834.0    240113.0  263204.0\n",
       "...              ...       ...         ...       ...\n",
       "2022-05-01  312487.0  265558.0    990391.0  768797.0\n",
       "2022-06-01  314663.0  268901.0    992337.0  773944.0\n",
       "2022-07-01  315910.0  271059.0    992630.0  777692.0\n",
       "2022-08-01  315587.0  272400.0    978196.0  779960.0\n",
       "2022-09-01  315429.0  272639.0    966595.0  781622.0\n",
       "\n",
       "[273 rows x 4 columns]"
      ]
     },
     "execution_count": 26,
     "metadata": {},
     "output_type": "execute_result"
    }
   ],
   "source": [
    "unstacked = plot_df.unstack(level=0)\n",
    "unstacked"
   ]
  },
  {
   "cell_type": "code",
   "execution_count": 27,
   "id": "dad2f6b8-0af1-4dbe-a230-3f6f59c6c1a7",
   "metadata": {},
   "outputs": [],
   "source": [
    "def thousands(x,pos):\n",
    "    \"\"\"function for use wth matplotlib FuncFormatter -  formats money in millions\"\"\"\n",
    "    new_x = x/1_000\n",
    "    return f\"{new_x:f}K\"\n",
    "# Create the formatters\n",
    "fmt_thous = mticks.FuncFormatter(thousands)"
   ]
  },
  {
   "cell_type": "code",
   "execution_count": 28,
   "id": "95db4a36-48e6-46d2-acac-aa99f2cd3b47",
   "metadata": {},
   "outputs": [
    {
     "data": {
      "text/plain": [
       "Text(0.5, 1.0, 'Zillow House Value Index (ZHVI)')"
      ]
     },
     "execution_count": 28,
     "metadata": {},
     "output_type": "execute_result"
    },
    {
     "data": {
      "image/png": "[encoded data removed]",
      "text/plain": [
       "<Figure size 1500x500 with 1 Axes>"
      ]
     },
     "metadata": {},
     "output_type": "display_data"
    }
   ],
   "source": [
    "unstacked.columns\n",
    "\n",
    "ax = unstacked['ZHVI'].plot(figsize=(15, 5))\n",
    "ax.set_ylabel(\"ZHVI\")\n",
    "ax.yaxis.set_major_formatter(fmt_thous)\n",
    "plt.title(\"Zillow House Value Index (ZHVI)\")"
   ]
  },
  {
   "cell_type": "markdown",
   "id": "5f7f7ca9-21b7-40bb-a7f2-72d1b62b3b7e",
   "metadata": {},
   "source": [
    " #### Q1: Which City had the highest Typical Home Value at the end of 2008? Which had the least?"
   ]
  },
  {
   "cell_type": "code",
   "execution_count": 29,
   "id": "ee21e5d8-d9e5-4589-8f76-151bb8ce888b",
   "metadata": {},
   "outputs": [],
   "source": [
    "max_date = df_ts.loc[pd.IndexSlice[:, '2008'],:].idxmax()\n",
    "max_value = df_ts.loc[pd.IndexSlice[:, '2008'],:].max()"
   ]
  },
  {
   "cell_type": "code",
   "execution_count": 30,
   "id": "79c0e96e-38eb-484f-8099-afb5256fa5d7",
   "metadata": {},
   "outputs": [
    {
     "data": {
      "text/plain": [
       "'603,029.0'"
      ]
     },
     "execution_count": 30,
     "metadata": {},
     "output_type": "execute_result"
    }
   ],
   "source": [
    "f\"{max_value['ZHVI']:,}\"\n"
   ]
  },
  {
   "cell_type": "code",
   "execution_count": 31,
   "id": "b9721157-a013-4d8d-96bb-d5fdf9498464",
   "metadata": {},
   "outputs": [
    {
     "name": "stdout",
     "output_type": "stream",
     "text": [
      "The City with the highest typical value was Los Angeles inches, which occured on $603K.\n"
     ]
    }
   ],
   "source": [
    "print(f\"The City with the highest typical value was {max_date['ZHVI'][0]} inches, which occured on ${max_value['ZHVI']/1000:.0f}K.\")"
   ]
  },
  {
   "cell_type": "markdown",
   "id": "e14a2fa0-1603-450a-9edd-bc6b103e767e",
   "metadata": {},
   "source": [
    "#### Q2: How much did the home values change from November 2008 to December 2008 (in dollars)?"
   ]
  },
  {
   "cell_type": "code",
   "execution_count": 32,
   "id": "a73b0f4b-1694-4bd7-921a-869f7abf01f7",
   "metadata": {},
   "outputs": [],
   "source": [
    "value_change_2008 = df_ts.loc[pd.IndexSlice[:, '2008-12'],:].diff().sum()"
   ]
  },
  {
   "cell_type": "code",
   "execution_count": 33,
   "id": "53956c19-0c5e-4eac-a611-f8f93e096954",
   "metadata": {},
   "outputs": [
    {
     "name": "stdout",
     "output_type": "stream",
     "text": [
      "home values change from November 2008 to December 2008 was $245K\n"
     ]
    }
   ],
   "source": [
    "print(f\"home values change from November 2008 to December 2008 was ${value_change_2008['ZHVI']/1000:.0f}K\")"
   ]
  },
  {
   "cell_type": "code",
   "execution_count": null,
   "id": "5aa81215-52a7-47a5-8797-ddfe33dc51d2",
   "metadata": {},
   "outputs": [],
   "source": []
  },
  {
   "cell_type": "code",
   "execution_count": null,
   "id": "2921d840-c2a9-4527-9c32-693fbf287846",
   "metadata": {},
   "outputs": [],
   "source": []
  }
 ],
 "metadata": {
  "kernelspec": {
   "display_name": "Python 3 (ipykernel)",
   "language": "python",
   "name": "python3"
  },
  "language_info": {
   "codemirror_mode": {
    "name": "ipython",
    "version": 3
   },
   "file_extension": ".py",
   "mimetype": "text/x-python",
   "name": "python",
   "nbconvert_exporter": "python",
   "pygments_lexer": "ipython3",
   "version": "3.9.15"
  }
 },
 "nbformat": 4,
 "nbformat_minor": 5
}
